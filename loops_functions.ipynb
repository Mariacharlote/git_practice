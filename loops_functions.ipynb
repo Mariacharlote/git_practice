{
  "cells": [
    {
      "cell_type": "code",
      "execution_count": 4,
      "metadata": {
        "colab": {
          "base_uri": "https://localhost:8080/"
        },
        "id": "KZawbUrenJSL",
        "outputId": "944f47fc-f3df-40a9-e2e1-4634ec4b0c45"
      },
      "outputs": [
        {
          "name": "stdout",
          "output_type": "stream",
          "text": [
            "['student_1', 'student_2', 'student_3', 'student_4', 'student_5', 'student_6', 'student_7', 'student_8', 'student_9', 'student_10', 'student_11', 'student_12', 'student_13', 'student_14', 'student_15', 'student_16', 'student_17', 'student_18', 'student_19', 'student_20', 'student_21', 'student_22', 'student_23', 'student_24', 'student_25', 'student_26', 'student_27', 'student_28', 'student_29', 'student_30', 'student_31', 'student_32', 'student_33', 'student_34', 'student_35', 'student_36', 'student_37', 'student_38', 'student_39', 'student_40', 'student_41', 'student_42', 'student_43', 'student_44', 'student_45', 'student_46', 'student_47', 'student_48', 'student_49', 'student_50']\n"
          ]
        }
      ],
      "source": [
        "import random\n",
        "names = []\n",
        "\n",
        "#student_1.....student_50\n",
        "for i in range(1,51):\n",
        "  names.append('student_'+ str(i))\n",
        "\n",
        "print(names)\n",
        "# if you indent the print the output is different. More of a cascading \n"
      ]
    },
    {
      "cell_type": "code",
      "execution_count": 10,
      "metadata": {
        "colab": {
          "base_uri": "https://localhost:8080/"
        },
        "id": "rNYklvBxqC2J",
        "outputId": "41b0c8fb-40e3-48dc-f9e6-e771f9566842"
      },
      "outputs": [
        {
          "name": "stdout",
          "output_type": "stream",
          "text": [
            "[1990, 1995, 1998, 2000, 1996, 1996, 1989, 1990, 2000, 1988, 1999, 2002, 1988, 1995, 1999, 1990, 1995, 1989, 1989, 1988, 1999, 1989, 1993, 1994, 1991, 2002, 1988, 1988, 1994, 1993, 1995, 1992, 1988, 1992, 1995, 1992, 1996, 1994, 2001, 1992, 1995, 1996, 1999, 1997, 1989, 1994, 2001, 1993, 1996, 1994]\n"
          ]
        }
      ],
      "source": [
        "birth_year = []\n",
        "#loops dont go through random selection\n",
        "for i in range (50):\n",
        "  birth_year.append(random.randint(1988,2002))\n",
        "#seems to have different out puts from others. add random.seed(\n",
        "    \n",
        ")\n",
        "print (birth_year)"
      ]
    },
    {
      "cell_type": "code",
      "execution_count": 12,
      "metadata": {
        "colab": {
          "base_uri": "https://localhost:8080/"
        },
        "id": "CpWyzrYTsZd3",
        "outputId": "6a36efad-cecb-4ae8-801f-3b486539e96a"
      },
      "outputs": [
        {
          "name": "stdout",
          "output_type": "stream",
          "text": [
            "[1991, 1997, 1996, 1990, 1993, 2002, 1997, 1995, 1998, 1997, 1989, 1997, 1988, 2002, 2001, 1995, 1992, 1996, 1991, 1991, 1999, 1995, 1996, 2001, 1996, 1995, 1994, 1998, 2001, 1990, 1991, 1998, 1990, 2001, 2002, 1996, 1994, 1999, 1988, 1998, 2000, 1989, 1990, 2000, 1997, 1988, 1992, 2000, 1988, 2001]\n"
          ]
        }
      ],
      "source": [
        "random.seed(3)#3 is a random number and provides synchronised answers with others.\n",
        "birth_year = []\n",
        "#loops dont go through random selection\n",
        "for i in range (50):\n",
        "  birth_year.append(random.randint(1988,2002))\n",
        "\n",
        "print (birth_year)"
      ]
    },
    {
      "cell_type": "code",
      "execution_count": 13,
      "metadata": {
        "colab": {
          "base_uri": "https://localhost:8080/"
        },
        "id": "mdTql7eGt10n",
        "outputId": "bcee3663-ce84-46c9-fb2a-342cb3505a5a"
      },
      "outputs": [
        {
          "name": "stdout",
          "output_type": "stream",
          "text": [
            "[2001, 1992, 1995, 1997, 1999, 1994, 1999, 2000, 1994, 1994, 1999, 2000, 1997, 1995, 1990, 1993, 1989, 1988, 1990, 1995, 1991, 1992, 1998, 1994, 2000, 1998, 2001, 1992, 1994, 1996, 2001, 1994, 1997, 1993, 1996, 1997, 1994, 1997, 1991, 1993, 1998, 1988, 2001, 1992, 1997, 1998, 1999, 1990, 1999, 2001]\n"
          ]
        }
      ],
      "source": [
        "b2= []\n",
        "for i in range(50):\n",
        "  b2.append(random.randrange(1988,2002))\n",
        "print (b2)"
      ]
    },
    {
      "cell_type": "code",
      "execution_count": 15,
      "metadata": {
        "colab": {
          "base_uri": "https://localhost:8080/"
        },
        "id": "p0K2pppQtXVP",
        "outputId": "6f1cd5e8-9ca6-4a2e-d8f7-746e65380d92"
      },
      "outputs": [
        {
          "name": "stdout",
          "output_type": "stream",
          "text": [
            "['Negative', 'Neutral', 'positive', 'Negative', 'positive', 'Neutral', 'Neutral', 'Neutral', 'positive', 'Neutral', 'Neutral', 'Neutral', 'Negative', 'Neutral', 'Negative', 'Negative', 'Negative', 'Negative', 'positive', 'Negative', 'Negative', 'Neutral', 'Neutral', 'Negative', 'Negative', 'Negative', 'positive', 'Neutral', 'Neutral', 'Neutral', 'Negative', 'Neutral', 'Negative', 'Neutral', 'positive', 'Neutral', 'Negative', 'Neutral', 'positive', 'Neutral', 'Negative', 'Negative', 'Negative', 'positive', 'positive', 'Negative', 'Negative', 'Neutral', 'Neutral', 'Neutral']\n",
            "50\n"
          ]
        }
      ],
      "source": [
        "student_attitde = []\n",
        "num = 0\n",
        "while num<50:\n",
        "  student_attitde.append(random.choice(['positive', 'Neutral', 'Negative']))\n",
        "  num +=1 #same as num = num + 1\n",
        "\n",
        "print(student_attitde)\n",
        "print(len(student_attitde))"
      ]
    },
    {
      "cell_type": "code",
      "execution_count": 16,
      "metadata": {
        "id": "xkCANA7IvyaU"
      },
      "outputs": [],
      "source": [
        "random.choice?#creates a help tab\n"
      ]
    },
    {
      "cell_type": "code",
      "execution_count": 20,
      "metadata": {
        "colab": {
          "base_uri": "https://localhost:8080/"
        },
        "id": "VpBCU7g6w46e",
        "outputId": "bb36849c-eb53-4a04-a917-0570c29a37c2"
      },
      "outputs": [
        {
          "name": "stdout",
          "output_type": "stream",
          "text": [
            "[12, 13, 76, 41, 42, 86, 28, 56, 21, 10, 43, 94, 83, 27, 72, 57, 34, 28, 100, 15, 4, 67, 24, 40, 73, 23, 35, 43, 82, 10, 79, 44, 75, 16, 53, 37, 66, 34, 59, 44, 81, 53, 37, 53, 72, 52, 4, 52, 19, 25]\n"
          ]
        }
      ],
      "source": [
        "student_score = []\n",
        "#from 0.100\n",
        "\n",
        "for i in range (50):\n",
        "  student_score.append(random.randint(0,100))\n",
        "\n",
        "print (student_score)"
      ]
    },
    {
      "cell_type": "code",
      "execution_count": null,
      "metadata": {
        "id": "st4U7r1RyTyv"
      },
      "outputs": [],
      "source": []
    }
  ],
  "metadata": {
    "colab": {
      "provenance": []
    },
    "kernelspec": {
      "display_name": "Python 3",
      "name": "python3"
    },
    "language_info": {
      "name": "python"
    }
  },
  "nbformat": 4,
  "nbformat_minor": 0
}
